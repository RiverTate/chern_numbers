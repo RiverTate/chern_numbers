{
 "cells": [
  {
   "cell_type": "code",
   "execution_count": 156,
   "metadata": {
    "collapsed": false
   },
   "outputs": [
    {
     "name": "stdout",
     "output_type": "stream",
     "text": [
      "Hello World!\n"
     ]
    }
   ],
   "source": [
    "print(\"Hello World!\")"
   ]
  },
  {
   "cell_type": "code",
   "execution_count": 157,
   "metadata": {
    "collapsed": true
   },
   "outputs": [],
   "source": [
    "get_ipython().magic('matplotlib inline')\n",
    "from matplotlib import pyplot as plt\n",
    "from mpl_toolkits.mplot3d import Axes3D\n",
    "from itertools import product\n",
    "import numpy as np\n",
    "import pandas as pd"
   ]
  },
  {
   "cell_type": "code",
   "execution_count": 190,
   "metadata": {
    "collapsed": true
   },
   "outputs": [],
   "source": [
    "def mat(theta, phi):\n",
    "    return np.matrix([[np.cos(theta), np.sin(theta)*np.exp(-1j*phi)],\n",
    "                      [np.sin(theta)*np.exp(1j*phi), -np.cos(theta)]])\n"
   ]
  },
  {
   "cell_type": "code",
   "execution_count": 191,
   "metadata": {
    "collapsed": true
   },
   "outputs": [],
   "source": [
    "from collections import namedtuple\n",
    "index = namedtuple(\"index\", \"phi, theta\")\n",
    "\n",
    "def normalized_dot_product(a,b):\n",
    "    prod = np.vdot(a.tolist()[0],b.tolist()[0])\n",
    "    return prod/np.abs(prod)"
   ]
  },
  {
   "cell_type": "code",
   "execution_count": 192,
   "metadata": {
    "collapsed": true
   },
   "outputs": [],
   "source": [
    "class Point:\n",
    "    def __init__(self, index, delta_phi, delta_theta, mat):\n",
    "        self.phi, self.theta= (index.phi)*delta_phi, (index.theta)*delta_theta\n",
    "        theta, phi = self.theta, self.phi\n",
    "        self.x,self.y,self.z = np.sin(theta)*np.cos(phi), np.sin(theta)*np.sin(phi), np.cos(theta)\n",
    "        self.matrix = mat(theta = self.theta, phi = self.phi)\n",
    "        self.eig = np.linalg.eigh(self.matrix)\n",
    "        self.vals = self.eig[0]\n",
    "        self.vecs = self.eig[1].T\n",
    "        self.index = index\n",
    "        \n",
    "    def __repr__(self):\n",
    "        return \"<θ={},φ={}>\".format(self.theta, self.phi)"
   ]
  },
  {
   "cell_type": "code",
   "execution_count": 199,
   "metadata": {
    "collapsed": true
   },
   "outputs": [],
   "source": [
    "class Vertex:\n",
    "    def __init__(self, points = None):\n",
    "        self.points = points\n",
    "        self.n = len(points)\n",
    "        \n",
    "    def calc(self, j):\n",
    "        res = 1\n",
    "        for i in range(self.n):\n",
    "            vec_1 = self.points[i].vecs[j]\n",
    "            vec_2 = self.points[(i+1)%self.n].vecs[j]\n",
    "            res *= normalized_dot_product(vec_1,vec_2)\n",
    "        return np.log(res)\n",
    "    \n",
    "    def plot(self,ax = None):\n",
    "        if ax is None:\n",
    "            ax = Axes3D(plt.figure())\n",
    "        for color, point in zip(\"rgby\",self.points):\n",
    "            ax.scatter3D([point.x],[point.y],[point.z], s=50, c=color)\n",
    "            \n",
    "    def __repr__(self):\n",
    "        return \"<{},{}>\".format(self.points[0].index, str.join(\"\\n\", map(repr,self.points)))"
   ]
  },
  {
   "cell_type": "code",
   "execution_count": 208,
   "metadata": {
    "collapsed": false
   },
   "outputs": [],
   "source": [
    "class Sphere(dict):\n",
    "    def __init__(self, n_phi, n_theta, delta_phi, delta_theta):\n",
    "        dict.__init__(self)\n",
    "        self.n_phi, self.n_theta = n_phi, n_theta\n",
    "        self.delta_theta = delta_theta\n",
    "        self.delta_phi = delta_phi\n",
    "        self.verteces = []\n",
    "        self.init_points()\n",
    "        self.find_verteces()\n",
    "        \n",
    "    def init_points(self):\n",
    "        n_phi, n_theta = self.n_phi, self.n_theta\n",
    "        for phi, theta in product(range(1,n_phi+1),range(1,n_theta)):\n",
    "            idx = index(phi = phi, theta = theta)\n",
    "            p = Point(index=idx, delta_phi=delta_phi, delta_theta=delta_theta, mat=mat)\n",
    "            self[idx] = p\n",
    "            \n",
    "        self.find_verteces()\n",
    "        \n",
    "        upper_pole_index = index(theta = 0, phi = 0)\n",
    "        upper_pole = Point(upper_pole_index, delta_theta=delta_theta, delta_phi=delta_phi,mat = mat)\n",
    "        lower_pole_index = index(phi = 0,theta = n_theta)\n",
    "        lower_pole = Point(lower_pole_index, delta_theta=delta_theta, delta_phi=delta_phi,mat = mat)\n",
    "        #self[lower_pole_index] = upper_pole\n",
    "        #self[upper_pole_index] = lower_pole\n",
    "        \n",
    "        for phi in range(1,n_phi):\n",
    "            idx_2 = index(theta = 1, phi = phi)\n",
    "            idx_3= index(theta = 1, phi = (phi + 1))\n",
    "            #self.verteces.append(Vertex(points = [upper_pole, self[idx_2], self[idx_3]]))\n",
    "        \n",
    "    def plot(self):\n",
    "        xs,ys,zs = zip(*[[i.x,i.y,i.z] for i in self.values()])\n",
    "        ax = Axes3D(plt.figure())\n",
    "        ax.scatter3D(xs, ys, zs)\n",
    "        \n",
    "    def find_verteces(self):\n",
    "        for index in self:\n",
    "            try : \n",
    "                self.verteces.append(Vertex(points=self.square(point = self[index])))\n",
    "            except KeyError:\n",
    "                pass\n",
    "        \n",
    "    def square(self, point):\n",
    "        idx = point.index\n",
    "        p2_index = index(phi = (idx.phi), theta = (idx.theta+1))\n",
    "        p3_index = index(phi = (idx.phi + 1)%n_phi, theta = (idx.theta + 1))\n",
    "        p4_index = index(phi = (idx.phi + 1)%n_phi , theta = (idx.theta))\n",
    "        return [point, self[p2_index], self[p3_index], self[p4_index]]"
   ]
  },
  {
   "cell_type": "code",
   "execution_count": 209,
   "metadata": {
    "collapsed": false
   },
   "outputs": [
    {
     "name": "stdout",
     "output_type": "stream",
     "text": [
      "Running with phis:31 and thetas:15\n"
     ]
    }
   ],
   "source": [
    "delta_theta = .2\n",
    "delta_phi = .2\n",
    "n_theta = int((np.pi ) // delta_theta )\n",
    "n_phi = int((2*np.pi ) // delta_phi )\n",
    "print(\"Running with phis:{} and thetas:{}\".format(n_phi,n_theta))"
   ]
  },
  {
   "cell_type": "code",
   "execution_count": 210,
   "metadata": {
    "collapsed": false
   },
   "outputs": [],
   "source": [
    "points = Sphere(n_phi=n_phi, n_theta=n_theta, delta_theta = delta_theta, delta_phi = delta_phi)"
   ]
  },
  {
   "cell_type": "code",
   "execution_count": 211,
   "metadata": {
    "collapsed": false
   },
   "outputs": [
    {
     "name": "stdout",
     "output_type": "stream",
     "text": [
      "11.6967002326\n"
     ]
    }
   ],
   "source": [
    "df = pd.DataFrame([[i.calc(0), i.calc(1)] for i in points.verteces], columns = [\"f0\",\"f1\"])\n",
    "df['F0'] = df.f0.imag\n",
    "df['F1'] = df.f1.imag\n",
    "print(df.F1.sum())"
   ]
  },
  {
   "cell_type": "code",
   "execution_count": null,
   "metadata": {
    "collapsed": true
   },
   "outputs": [],
   "source": []
  },
  {
   "cell_type": "code",
   "execution_count": null,
   "metadata": {
    "collapsed": true
   },
   "outputs": [],
   "source": []
  }
 ],
 "metadata": {
  "kernelspec": {
   "display_name": "Python 3.5",
   "language": "python",
   "name": "python3.5"
  },
  "language_info": {
   "codemirror_mode": {
    "name": "ipython",
    "version": 3
   },
   "file_extension": ".py",
   "mimetype": "text/x-python",
   "name": "python",
   "nbconvert_exporter": "python",
   "pygments_lexer": "ipython3",
   "version": "3.5.0"
  }
 },
 "nbformat": 4,
 "nbformat_minor": 0
}

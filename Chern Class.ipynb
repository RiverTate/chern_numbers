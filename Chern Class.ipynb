{
 "cells": [
  {
   "cell_type": "code",
   "execution_count": null,
   "metadata": {
    "collapsed": false
   },
   "outputs": [],
   "source": [
    "%matplotlib inline\n",
    "from matplotlib import pyplot as plt\n",
    "from mpl_toolkits.mplot3d import Axes3D\n",
    "import numpy as np\n",
    "from numpy import *\n",
    "import pandas as pd"
   ]
  },
  {
   "cell_type": "code",
   "execution_count": 625,
   "metadata": {
    "collapsed": true
   },
   "outputs": [],
   "source": [
    "def mat(theta, phi):\n",
    "    return np.matrix([[cos(theta), sin(theta)*exp(-1j*phi)],[sin(theta)*exp(1j*phi), -cos(theta)]])"
   ]
  },
  {
   "cell_type": "code",
   "execution_count": 626,
   "metadata": {
    "collapsed": true
   },
   "outputs": [],
   "source": [
    "def normalized_dot_product(a,b):\n",
    "    prod = np.vdot(a.tolist()[0],b.tolist()[0])\n",
    "    return prod/np.abs(prod)"
   ]
  },
  {
   "cell_type": "code",
   "execution_count": 785,
   "metadata": {
    "collapsed": true
   },
   "outputs": [],
   "source": [
    "ROUNDING_DIGITS = 5\n",
    "class Point:\n",
    "    def __init__(self, string):\n",
    "        x,y,z = map(float,string.split()[:3])\n",
    "        self.x, self.y, self.z  = x,y,z \n",
    "        self.theta = round(np.arccos(z/(x**2+y**2+z**2)), ROUNDING_DIGITS)\n",
    "        self.phi = round(np.arctan2(x,y), ROUNDING_DIGITS)\n",
    "        if self.phi < -2*pi*.9:\n",
    "            self.phi += 2*pi\n",
    "        self.matrix = mat(self.theta, self.phi)\n",
    "        self.eig = np.linalg.eigh(self.matrix)\n",
    "        self.vals = self.eig[0]\n",
    "        self.vecs = self.eig[1].T\n",
    "    def __repr__(self):\n",
    "        return \"<θ={},φ={}>\".format(self.theta, self.phi)\n",
    "\n",
    "class Vertex:\n",
    "    def __init__(self, string):\n",
    "        n = int(string.split()[0])\n",
    "        idx = map(int, string.split()[1:1+n])\n",
    "        self.points = [points[i] for i in idx]\n",
    "        self.n = n \n",
    "        self.sort()\n",
    "    def calc(self, j):\n",
    "        res = 1\n",
    "        for i in range(self.n):\n",
    "            vec_1 = self.points[i].vecs[j]\n",
    "            vec_2 = self.points[(i+1)%self.n].vecs[j]\n",
    "            res *= normalized_dot_product(vec_1,vec_2)\n",
    "        return np.log(res)\n",
    "    def plot(self,ax = None):\n",
    "        if ax is None:\n",
    "            fg = plt.figure()\n",
    "            ax = Axes3D(fg)\n",
    "        for color, point in zip(\"rgby\",self.points):\n",
    "            ax.scatter3D([point.x],[point.y],[point.z], s=50, c=color)\n",
    "    def sort(self):\n",
    "        if self.n != 4: \n",
    "            self.points = self.points[::-1]\n",
    "            return\n",
    "        self.points.sort(key = lambda x:(-x.theta, x.phi))\n",
    "        minimum, a, b, maximum = self.points\n",
    "        if a.phi > b.phi:\n",
    "            self.points = [minimum, a,maximum, b]\n",
    "        else :\n",
    "            self.points = [minimum, b,maximum, a]\n",
    "        \n",
    "    def __repr__(self):\n",
    "        return \"<{}>\".format(str.join(\"\\n\", map(repr,self.points)))\n",
    "\n",
    "class Sphere(list):\n",
    "    def plot(self):\n",
    "        xs,ys,zs = zip(*[[i.x,i.y,i.z] for i in self])\n",
    "        ax = Axes3D(plt.figure())\n",
    "        ax.scatter3D(xs, ys, zs)\n",
    "    "
   ]
  },
  {
   "cell_type": "code",
   "execution_count": 786,
   "metadata": {
    "collapsed": false
   },
   "outputs": [],
   "source": [
    "from itertools import count\n",
    "points = Sphere()\n",
    "vertexes = []\n",
    "with open(\"./sphere_data.txt\") as f:\n",
    "    for line in f:\n",
    "        if line.startswith(\"END\"):\n",
    "            break\n",
    "        points.append(Point(line))\n",
    "    for line in f:\n",
    "        vertexes.append(Vertex(line))\n",
    "    \n"
   ]
  },
  {
   "cell_type": "code",
   "execution_count": null,
   "metadata": {
    "collapsed": false
   },
   "outputs": [],
   "source": [
    "df = pd.DataFrame([[i.calc(1), i.n, index] for index, i in enumerate(vertexes)], columns=[\"f\",\"n\",\"index\"])\n",
    "df['F'] = df.f.apply(np.imag)"
   ]
  },
  {
   "cell_type": "code",
   "execution_count": null,
   "metadata": {
    "collapsed": false
   },
   "outputs": [],
   "source": [
    "df.F.abs().sum()"
   ]
  },
  {
   "cell_type": "code",
   "execution_count": null,
   "metadata": {
    "collapsed": false
   },
   "outputs": [],
   "source": [
    "df[df.F < 0]"
   ]
  },
  {
   "cell_type": "code",
   "execution_count": null,
   "metadata": {
    "collapsed": true
   },
   "outputs": [],
   "source": []
  }
 ],
 "metadata": {
  "kernelspec": {
   "display_name": "Python 3.5",
   "language": "python",
   "name": "python3.5"
  },
  "language_info": {
   "codemirror_mode": {
    "name": "ipython",
    "version": 3
   },
   "file_extension": ".py",
   "mimetype": "text/x-python",
   "name": "python",
   "nbconvert_exporter": "python",
   "pygments_lexer": "ipython3",
   "version": "3.5.0"
  }
 },
 "nbformat": 4,
 "nbformat_minor": 0
}

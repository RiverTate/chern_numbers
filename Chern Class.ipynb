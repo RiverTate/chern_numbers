{
 "cells": [
  {
   "cell_type": "code",
   "execution_count": 1,
   "metadata": {
    "collapsed": true
   },
   "outputs": [],
   "source": [
    "from sphere import Sphere,mat"
   ]
  },
  {
   "cell_type": "code",
   "execution_count": 2,
   "metadata": {
    "collapsed": true
   },
   "outputs": [],
   "source": [
    "import numpy as np\n",
    "def J_z(d):\n",
    "    j = (d-1)/2\n",
    "    return np.diag([j-i for i in range(d)])\n",
    "def r(m, j):\n",
    "    return np.sqrt(j*(j+1)-m*(m+1))\n",
    "\n",
    "def J_p(d):\n",
    "    j = (d-1)/2\n",
    "    return np.diag([r(j-1-i,j) for i in range(d-1)], k=1)\n",
    "    \n",
    "def J_m(d):\n",
    "    return J_p(d).T\n",
    "\n",
    "def J_x(d):\n",
    "    return (J_p(d)+J_m(d))/2\n",
    "def J_y(d):\n",
    "    return (J_p(d)-J_m(d))/(2j)\n"
   ]
  },
  {
   "cell_type": "code",
   "execution_count": 6,
   "metadata": {
    "collapsed": false
   },
   "outputs": [],
   "source": [
    "def mat3(theta, phi,n=2):\n",
    "    return np.sin(theta)*np.cos(phi)*J_x(n)+\\\n",
    "           np.sin(theta)*np.sin(phi)*J_y(n)+\\\n",
    "           np.cos(theta)*J_z(n)\n",
    "            "
   ]
  },
  {
   "cell_type": "code",
   "execution_count": 20,
   "metadata": {
    "collapsed": false
   },
   "outputs": [],
   "source": [
    "s = .4999\n",
    "s = .5001\n",
    "s = .7\n",
    "def mat2(theta, phi):\n",
    "    return (1-s)*mat(0,0) + s*mat(theta, phi)"
   ]
  },
  {
   "cell_type": "code",
   "execution_count": 21,
   "metadata": {
    "collapsed": false
   },
   "outputs": [
    {
     "data": {
      "text/plain": [
       "[-1, 1]"
      ]
     },
     "execution_count": 21,
     "metadata": {},
     "output_type": "execute_result"
    }
   ],
   "source": [
    "sphere = Sphere(delta_phi=.4,delta_theta=.04, mat = mat2)\n",
    "sphere.chern_numbers()"
   ]
  },
  {
   "cell_type": "code",
   "execution_count": null,
   "metadata": {
    "collapsed": true
   },
   "outputs": [],
   "source": []
  },
  {
   "cell_type": "code",
   "execution_count": null,
   "metadata": {
    "collapsed": true
   },
   "outputs": [],
   "source": []
  },
  {
   "cell_type": "code",
   "execution_count": null,
   "metadata": {
    "collapsed": true
   },
   "outputs": [],
   "source": []
  },
  {
   "cell_type": "code",
   "execution_count": null,
   "metadata": {
    "collapsed": true
   },
   "outputs": [],
   "source": []
  }
 ],
 "metadata": {
  "kernelspec": {
   "display_name": "Python 3.5",
   "language": "python",
   "name": "python3.5"
  },
  "language_info": {
   "codemirror_mode": {
    "name": "ipython",
    "version": 3
   },
   "file_extension": ".py",
   "mimetype": "text/x-python",
   "name": "python",
   "nbconvert_exporter": "python",
   "pygments_lexer": "ipython3",
   "version": "3.5.0"
  }
 },
 "nbformat": 4,
 "nbformat_minor": 0
}
